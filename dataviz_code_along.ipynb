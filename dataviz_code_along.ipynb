{
  "nbformat": 4,
  "nbformat_minor": 0,
  "metadata": {
    "colab": {
      "provenance": [],
      "include_colab_link": true
    },
    "kernelspec": {
      "name": "python3",
      "display_name": "Python 3"
    },
    "language_info": {
      "name": "python"
    }
  },
  "cells": [
    {
      "cell_type": "markdown",
      "metadata": {
        "id": "view-in-github",
        "colab_type": "text"
      },
      "source": [
        "<a href=\"https://colab.research.google.com/github/nitron-alpha-kplr/Capstone_-Project_Pipeline/blob/main/dataviz_code_along.ipynb\" target=\"_parent\"><img src=\"https://colab.research.google.com/assets/colab-badge.svg\" alt=\"Open In Colab\"/></a>"
      ]
    },
    {
      "cell_type": "code",
      "execution_count": 3,
      "metadata": {
        "id": "zh3uGab4hgxZ"
      },
      "outputs": [],
      "source": [
        "import numpy as np\n",
        "import pandas as pd\n",
        "import matplotlib.pyplot as plt # pour la visualisation"
      ]
    },
    {
      "cell_type": "code",
      "source": [
        "df = pd.read_csv('/content/Piece_Dim.csv',  index_col='Item_No')"
      ],
      "metadata": {
        "id": "hHnbn5N05nTe"
      },
      "execution_count": 5,
      "outputs": []
    },
    {
      "cell_type": "code",
      "source": [
        "df.head(10)"
      ],
      "metadata": {
        "colab": {
          "base_uri": "https://localhost:8080/",
          "height": 394
        },
        "id": "va19Sct_5s-d",
        "outputId": "b9ece3ce-b0a7-4161-c962-b2972cc0c95d"
      },
      "execution_count": 6,
      "outputs": [
        {
          "output_type": "execute_result",
          "data": {
            "text/plain": [
              "         Length  Width  Height Operator\n",
              "Item_No                                \n",
              "Item-1   102.67  49.53   19.69     Op-1\n",
              "Item-2   102.50  51.42   19.63     Op-1\n",
              "Item-3    95.37  52.25   21.51     Op-1\n",
              "Item-4    94.77  49.24   18.60     Op-1\n",
              "Item-5   104.26  47.90   19.46     Op-1\n",
              "Item-6   105.18  49.39   20.36     Op-1\n",
              "Item-7    97.35  48.05   20.22     Op-1\n",
              "Item-8    99.35  44.59   21.03     Op-1\n",
              "Item-9    90.62  47.29   19.78     Op-1\n",
              "Item-10   97.22  52.14   20.71     Op-1"
            ],
            "text/html": [
              "\n",
              "  <div id=\"df-d7e86432-83dd-4309-853d-618a4d286093\">\n",
              "    <div class=\"colab-df-container\">\n",
              "      <div>\n",
              "<style scoped>\n",
              "    .dataframe tbody tr th:only-of-type {\n",
              "        vertical-align: middle;\n",
              "    }\n",
              "\n",
              "    .dataframe tbody tr th {\n",
              "        vertical-align: top;\n",
              "    }\n",
              "\n",
              "    .dataframe thead th {\n",
              "        text-align: right;\n",
              "    }\n",
              "</style>\n",
              "<table border=\"1\" class=\"dataframe\">\n",
              "  <thead>\n",
              "    <tr style=\"text-align: right;\">\n",
              "      <th></th>\n",
              "      <th>Length</th>\n",
              "      <th>Width</th>\n",
              "      <th>Height</th>\n",
              "      <th>Operator</th>\n",
              "    </tr>\n",
              "    <tr>\n",
              "      <th>Item_No</th>\n",
              "      <th></th>\n",
              "      <th></th>\n",
              "      <th></th>\n",
              "      <th></th>\n",
              "    </tr>\n",
              "  </thead>\n",
              "  <tbody>\n",
              "    <tr>\n",
              "      <th>Item-1</th>\n",
              "      <td>102.67</td>\n",
              "      <td>49.53</td>\n",
              "      <td>19.69</td>\n",
              "      <td>Op-1</td>\n",
              "    </tr>\n",
              "    <tr>\n",
              "      <th>Item-2</th>\n",
              "      <td>102.50</td>\n",
              "      <td>51.42</td>\n",
              "      <td>19.63</td>\n",
              "      <td>Op-1</td>\n",
              "    </tr>\n",
              "    <tr>\n",
              "      <th>Item-3</th>\n",
              "      <td>95.37</td>\n",
              "      <td>52.25</td>\n",
              "      <td>21.51</td>\n",
              "      <td>Op-1</td>\n",
              "    </tr>\n",
              "    <tr>\n",
              "      <th>Item-4</th>\n",
              "      <td>94.77</td>\n",
              "      <td>49.24</td>\n",
              "      <td>18.60</td>\n",
              "      <td>Op-1</td>\n",
              "    </tr>\n",
              "    <tr>\n",
              "      <th>Item-5</th>\n",
              "      <td>104.26</td>\n",
              "      <td>47.90</td>\n",
              "      <td>19.46</td>\n",
              "      <td>Op-1</td>\n",
              "    </tr>\n",
              "    <tr>\n",
              "      <th>Item-6</th>\n",
              "      <td>105.18</td>\n",
              "      <td>49.39</td>\n",
              "      <td>20.36</td>\n",
              "      <td>Op-1</td>\n",
              "    </tr>\n",
              "    <tr>\n",
              "      <th>Item-7</th>\n",
              "      <td>97.35</td>\n",
              "      <td>48.05</td>\n",
              "      <td>20.22</td>\n",
              "      <td>Op-1</td>\n",
              "    </tr>\n",
              "    <tr>\n",
              "      <th>Item-8</th>\n",
              "      <td>99.35</td>\n",
              "      <td>44.59</td>\n",
              "      <td>21.03</td>\n",
              "      <td>Op-1</td>\n",
              "    </tr>\n",
              "    <tr>\n",
              "      <th>Item-9</th>\n",
              "      <td>90.62</td>\n",
              "      <td>47.29</td>\n",
              "      <td>19.78</td>\n",
              "      <td>Op-1</td>\n",
              "    </tr>\n",
              "    <tr>\n",
              "      <th>Item-10</th>\n",
              "      <td>97.22</td>\n",
              "      <td>52.14</td>\n",
              "      <td>20.71</td>\n",
              "      <td>Op-1</td>\n",
              "    </tr>\n",
              "  </tbody>\n",
              "</table>\n",
              "</div>\n",
              "      <button class=\"colab-df-convert\" onclick=\"convertToInteractive('df-d7e86432-83dd-4309-853d-618a4d286093')\"\n",
              "              title=\"Convert this dataframe to an interactive table.\"\n",
              "              style=\"display:none;\">\n",
              "        \n",
              "  <svg xmlns=\"http://www.w3.org/2000/svg\" height=\"24px\"viewBox=\"0 0 24 24\"\n",
              "       width=\"24px\">\n",
              "    <path d=\"M0 0h24v24H0V0z\" fill=\"none\"/>\n",
              "    <path d=\"M18.56 5.44l.94 2.06.94-2.06 2.06-.94-2.06-.94-.94-2.06-.94 2.06-2.06.94zm-11 1L8.5 8.5l.94-2.06 2.06-.94-2.06-.94L8.5 2.5l-.94 2.06-2.06.94zm10 10l.94 2.06.94-2.06 2.06-.94-2.06-.94-.94-2.06-.94 2.06-2.06.94z\"/><path d=\"M17.41 7.96l-1.37-1.37c-.4-.4-.92-.59-1.43-.59-.52 0-1.04.2-1.43.59L10.3 9.45l-7.72 7.72c-.78.78-.78 2.05 0 2.83L4 21.41c.39.39.9.59 1.41.59.51 0 1.02-.2 1.41-.59l7.78-7.78 2.81-2.81c.8-.78.8-2.07 0-2.86zM5.41 20L4 18.59l7.72-7.72 1.47 1.35L5.41 20z\"/>\n",
              "  </svg>\n",
              "      </button>\n",
              "      \n",
              "  <style>\n",
              "    .colab-df-container {\n",
              "      display:flex;\n",
              "      flex-wrap:wrap;\n",
              "      gap: 12px;\n",
              "    }\n",
              "\n",
              "    .colab-df-convert {\n",
              "      background-color: #E8F0FE;\n",
              "      border: none;\n",
              "      border-radius: 50%;\n",
              "      cursor: pointer;\n",
              "      display: none;\n",
              "      fill: #1967D2;\n",
              "      height: 32px;\n",
              "      padding: 0 0 0 0;\n",
              "      width: 32px;\n",
              "    }\n",
              "\n",
              "    .colab-df-convert:hover {\n",
              "      background-color: #E2EBFA;\n",
              "      box-shadow: 0px 1px 2px rgba(60, 64, 67, 0.3), 0px 1px 3px 1px rgba(60, 64, 67, 0.15);\n",
              "      fill: #174EA6;\n",
              "    }\n",
              "\n",
              "    [theme=dark] .colab-df-convert {\n",
              "      background-color: #3B4455;\n",
              "      fill: #D2E3FC;\n",
              "    }\n",
              "\n",
              "    [theme=dark] .colab-df-convert:hover {\n",
              "      background-color: #434B5C;\n",
              "      box-shadow: 0px 1px 3px 1px rgba(0, 0, 0, 0.15);\n",
              "      filter: drop-shadow(0px 1px 2px rgba(0, 0, 0, 0.3));\n",
              "      fill: #FFFFFF;\n",
              "    }\n",
              "  </style>\n",
              "\n",
              "      <script>\n",
              "        const buttonEl =\n",
              "          document.querySelector('#df-d7e86432-83dd-4309-853d-618a4d286093 button.colab-df-convert');\n",
              "        buttonEl.style.display =\n",
              "          google.colab.kernel.accessAllowed ? 'block' : 'none';\n",
              "\n",
              "        async function convertToInteractive(key) {\n",
              "          const element = document.querySelector('#df-d7e86432-83dd-4309-853d-618a4d286093');\n",
              "          const dataTable =\n",
              "            await google.colab.kernel.invokeFunction('convertToInteractive',\n",
              "                                                     [key], {});\n",
              "          if (!dataTable) return;\n",
              "\n",
              "          const docLinkHtml = 'Like what you see? Visit the ' +\n",
              "            '<a target=\"_blank\" href=https://colab.research.google.com/notebooks/data_table.ipynb>data table notebook</a>'\n",
              "            + ' to learn more about interactive tables.';\n",
              "          element.innerHTML = '';\n",
              "          dataTable['output_type'] = 'display_data';\n",
              "          await google.colab.output.renderOutput(dataTable, element);\n",
              "          const docLink = document.createElement('div');\n",
              "          docLink.innerHTML = docLinkHtml;\n",
              "          element.appendChild(docLink);\n",
              "        }\n",
              "      </script>\n",
              "    </div>\n",
              "  </div>\n",
              "  "
            ]
          },
          "metadata": {},
          "execution_count": 6
        }
      ]
    },
    {
      "cell_type": "code",
      "source": [
        "df.describe()"
      ],
      "metadata": {
        "colab": {
          "base_uri": "https://localhost:8080/",
          "height": 300
        },
        "id": "KAnD-uPQ543F",
        "outputId": "3f36ba83-3ad5-47cc-9d62-9c8dbc4fbe3e"
      },
      "execution_count": 7,
      "outputs": [
        {
          "output_type": "execute_result",
          "data": {
            "text/plain": [
              "           Length      Width     Height\n",
              "count   50.000000  50.000000  50.000000\n",
              "mean   100.128800  49.461400  20.014000\n",
              "std      5.075593   2.615639   1.074069\n",
              "min     89.820000  44.460000  17.370000\n",
              "25%     95.675000  48.105000  19.375000\n",
              "50%     99.830000  49.315000  19.930000\n",
              "75%    104.402500  50.780000  20.595000\n",
              "max    110.540000  55.760000  23.110000"
            ],
            "text/html": [
              "\n",
              "  <div id=\"df-a527cd4e-9a96-4cb3-8a37-aa524f40c652\">\n",
              "    <div class=\"colab-df-container\">\n",
              "      <div>\n",
              "<style scoped>\n",
              "    .dataframe tbody tr th:only-of-type {\n",
              "        vertical-align: middle;\n",
              "    }\n",
              "\n",
              "    .dataframe tbody tr th {\n",
              "        vertical-align: top;\n",
              "    }\n",
              "\n",
              "    .dataframe thead th {\n",
              "        text-align: right;\n",
              "    }\n",
              "</style>\n",
              "<table border=\"1\" class=\"dataframe\">\n",
              "  <thead>\n",
              "    <tr style=\"text-align: right;\">\n",
              "      <th></th>\n",
              "      <th>Length</th>\n",
              "      <th>Width</th>\n",
              "      <th>Height</th>\n",
              "    </tr>\n",
              "  </thead>\n",
              "  <tbody>\n",
              "    <tr>\n",
              "      <th>count</th>\n",
              "      <td>50.000000</td>\n",
              "      <td>50.000000</td>\n",
              "      <td>50.000000</td>\n",
              "    </tr>\n",
              "    <tr>\n",
              "      <th>mean</th>\n",
              "      <td>100.128800</td>\n",
              "      <td>49.461400</td>\n",
              "      <td>20.014000</td>\n",
              "    </tr>\n",
              "    <tr>\n",
              "      <th>std</th>\n",
              "      <td>5.075593</td>\n",
              "      <td>2.615639</td>\n",
              "      <td>1.074069</td>\n",
              "    </tr>\n",
              "    <tr>\n",
              "      <th>min</th>\n",
              "      <td>89.820000</td>\n",
              "      <td>44.460000</td>\n",
              "      <td>17.370000</td>\n",
              "    </tr>\n",
              "    <tr>\n",
              "      <th>25%</th>\n",
              "      <td>95.675000</td>\n",
              "      <td>48.105000</td>\n",
              "      <td>19.375000</td>\n",
              "    </tr>\n",
              "    <tr>\n",
              "      <th>50%</th>\n",
              "      <td>99.830000</td>\n",
              "      <td>49.315000</td>\n",
              "      <td>19.930000</td>\n",
              "    </tr>\n",
              "    <tr>\n",
              "      <th>75%</th>\n",
              "      <td>104.402500</td>\n",
              "      <td>50.780000</td>\n",
              "      <td>20.595000</td>\n",
              "    </tr>\n",
              "    <tr>\n",
              "      <th>max</th>\n",
              "      <td>110.540000</td>\n",
              "      <td>55.760000</td>\n",
              "      <td>23.110000</td>\n",
              "    </tr>\n",
              "  </tbody>\n",
              "</table>\n",
              "</div>\n",
              "      <button class=\"colab-df-convert\" onclick=\"convertToInteractive('df-a527cd4e-9a96-4cb3-8a37-aa524f40c652')\"\n",
              "              title=\"Convert this dataframe to an interactive table.\"\n",
              "              style=\"display:none;\">\n",
              "        \n",
              "  <svg xmlns=\"http://www.w3.org/2000/svg\" height=\"24px\"viewBox=\"0 0 24 24\"\n",
              "       width=\"24px\">\n",
              "    <path d=\"M0 0h24v24H0V0z\" fill=\"none\"/>\n",
              "    <path d=\"M18.56 5.44l.94 2.06.94-2.06 2.06-.94-2.06-.94-.94-2.06-.94 2.06-2.06.94zm-11 1L8.5 8.5l.94-2.06 2.06-.94-2.06-.94L8.5 2.5l-.94 2.06-2.06.94zm10 10l.94 2.06.94-2.06 2.06-.94-2.06-.94-.94-2.06-.94 2.06-2.06.94z\"/><path d=\"M17.41 7.96l-1.37-1.37c-.4-.4-.92-.59-1.43-.59-.52 0-1.04.2-1.43.59L10.3 9.45l-7.72 7.72c-.78.78-.78 2.05 0 2.83L4 21.41c.39.39.9.59 1.41.59.51 0 1.02-.2 1.41-.59l7.78-7.78 2.81-2.81c.8-.78.8-2.07 0-2.86zM5.41 20L4 18.59l7.72-7.72 1.47 1.35L5.41 20z\"/>\n",
              "  </svg>\n",
              "      </button>\n",
              "      \n",
              "  <style>\n",
              "    .colab-df-container {\n",
              "      display:flex;\n",
              "      flex-wrap:wrap;\n",
              "      gap: 12px;\n",
              "    }\n",
              "\n",
              "    .colab-df-convert {\n",
              "      background-color: #E8F0FE;\n",
              "      border: none;\n",
              "      border-radius: 50%;\n",
              "      cursor: pointer;\n",
              "      display: none;\n",
              "      fill: #1967D2;\n",
              "      height: 32px;\n",
              "      padding: 0 0 0 0;\n",
              "      width: 32px;\n",
              "    }\n",
              "\n",
              "    .colab-df-convert:hover {\n",
              "      background-color: #E2EBFA;\n",
              "      box-shadow: 0px 1px 2px rgba(60, 64, 67, 0.3), 0px 1px 3px 1px rgba(60, 64, 67, 0.15);\n",
              "      fill: #174EA6;\n",
              "    }\n",
              "\n",
              "    [theme=dark] .colab-df-convert {\n",
              "      background-color: #3B4455;\n",
              "      fill: #D2E3FC;\n",
              "    }\n",
              "\n",
              "    [theme=dark] .colab-df-convert:hover {\n",
              "      background-color: #434B5C;\n",
              "      box-shadow: 0px 1px 3px 1px rgba(0, 0, 0, 0.15);\n",
              "      filter: drop-shadow(0px 1px 2px rgba(0, 0, 0, 0.3));\n",
              "      fill: #FFFFFF;\n",
              "    }\n",
              "  </style>\n",
              "\n",
              "      <script>\n",
              "        const buttonEl =\n",
              "          document.querySelector('#df-a527cd4e-9a96-4cb3-8a37-aa524f40c652 button.colab-df-convert');\n",
              "        buttonEl.style.display =\n",
              "          google.colab.kernel.accessAllowed ? 'block' : 'none';\n",
              "\n",
              "        async function convertToInteractive(key) {\n",
              "          const element = document.querySelector('#df-a527cd4e-9a96-4cb3-8a37-aa524f40c652');\n",
              "          const dataTable =\n",
              "            await google.colab.kernel.invokeFunction('convertToInteractive',\n",
              "                                                     [key], {});\n",
              "          if (!dataTable) return;\n",
              "\n",
              "          const docLinkHtml = 'Like what you see? Visit the ' +\n",
              "            '<a target=\"_blank\" href=https://colab.research.google.com/notebooks/data_table.ipynb>data table notebook</a>'\n",
              "            + ' to learn more about interactive tables.';\n",
              "          element.innerHTML = '';\n",
              "          dataTable['output_type'] = 'display_data';\n",
              "          await google.colab.output.renderOutput(dataTable, element);\n",
              "          const docLink = document.createElement('div');\n",
              "          docLink.innerHTML = docLinkHtml;\n",
              "          element.appendChild(docLink);\n",
              "        }\n",
              "      </script>\n",
              "    </div>\n",
              "  </div>\n",
              "  "
            ]
          },
          "metadata": {},
          "execution_count": 7
        }
      ]
    },
    {
      "cell_type": "code",
      "source": [
        "plt.hist(df['Length']) # 10 bins par défaut"
      ],
      "metadata": {
        "colab": {
          "base_uri": "https://localhost:8080/",
          "height": 499
        },
        "id": "OaQllL7Z7Dmo",
        "outputId": "3f6bce79-9ccb-4ce9-9cdb-facc56cfe695"
      },
      "execution_count": 8,
      "outputs": [
        {
          "output_type": "execute_result",
          "data": {
            "text/plain": [
              "(array([2., 3., 9., 6., 6., 7., 4., 6., 5., 2.]),\n",
              " array([ 89.82 ,  91.892,  93.964,  96.036,  98.108, 100.18 , 102.252,\n",
              "        104.324, 106.396, 108.468, 110.54 ]),\n",
              " <BarContainer object of 10 artists>)"
            ]
          },
          "metadata": {},
          "execution_count": 8
        },
        {
          "output_type": "display_data",
          "data": {
            "text/plain": [
              "<Figure size 640x480 with 1 Axes>"
            ],
            "image/png": "[encoded data removed]"
          },
          "metadata": {}
        }
      ]
    },
    {
      "cell_type": "code",
      "source": [
        "plt.hist(df['Length'], bins=15)\n",
        "plt.show()"
      ],
      "metadata": {
        "colab": {
          "base_uri": "https://localhost:8080/",
          "height": 430
        },
        "id": "HRnm2MCv7QO9",
        "outputId": "a7a91093-da95-458a-8dcb-234108ed6f5a"
      },
      "execution_count": 9,
      "outputs": [
        {
          "output_type": "display_data",
          "data": {
            "text/plain": [
              "<Figure size 640x480 with 1 Axes>"
            ],
            "image/png": "[encoded data removed]"
          },
          "metadata": {}
        }
      ]
    },
    {
      "cell_type": "code",
      "source": [
        "plt.hist(df['Length'], bins=15, color='Red')\n",
        "plt.xlabel('longueur en mm')\n",
        "plt.ylabel('nombre de pièces')\n",
        "plt.title('Histogramme des longueurs des pièces')\n",
        "plt.show()"
      ],
      "metadata": {
        "colab": {
          "base_uri": "https://localhost:8080/",
          "height": 472
        },
        "id": "mG3gAB3O7lzN",
        "outputId": "13919319-0afb-4a42-9668-a2e9cfa6314d"
      },
      "execution_count": 10,
      "outputs": [
        {
          "output_type": "display_data",
          "data": {
            "text/plain": [
              "<Figure size 640x480 with 1 Axes>"
            ],
            "image/png": "[encoded data removed]"
          },
          "metadata": {}
        }
      ]
    },
    {
      "cell_type": "code",
      "source": [
        "plt.boxplot(df['Length'])\n",
        "plt.show()"
      ],
      "metadata": {
        "colab": {
          "base_uri": "https://localhost:8080/",
          "height": 430
        },
        "id": "L5yXWK_P8V3i",
        "outputId": "2023e9fe-095b-439a-eb3c-607a90878e1c"
      },
      "execution_count": 11,
      "outputs": [
        {
          "output_type": "display_data",
          "data": {
            "text/plain": [
              "<Figure size 640x480 with 1 Axes>"
            ],
            "image/png": "[encoded data removed]"
          },
          "metadata": {}
        }
      ]
    },
    {
      "cell_type": "code",
      "source": [
        "op1 = df[df['Operator'] == 'Op-1']"
      ],
      "metadata": {
        "id": "m0mNSCyn9A4u"
      },
      "execution_count": 12,
      "outputs": []
    },
    {
      "cell_type": "code",
      "source": [
        "op1"
      ],
      "metadata": {
        "colab": {
          "base_uri": "https://localhost:8080/",
          "height": 865
        },
        "id": "6IjxusDM9wbp",
        "outputId": "8ac25c08-af70-4f4e-c55b-06a10a7db5a9"
      },
      "execution_count": 13,
      "outputs": [
        {
          "output_type": "execute_result",
          "data": {
            "text/plain": [
              "         Length  Width  Height Operator\n",
              "Item_No                                \n",
              "Item-1   102.67  49.53   19.69     Op-1\n",
              "Item-2   102.50  51.42   19.63     Op-1\n",
              "Item-3    95.37  52.25   21.51     Op-1\n",
              "Item-4    94.77  49.24   18.60     Op-1\n",
              "Item-5   104.26  47.90   19.46     Op-1\n",
              "Item-6   105.18  49.39   20.36     Op-1\n",
              "Item-7    97.35  48.05   20.22     Op-1\n",
              "Item-8    99.35  44.59   21.03     Op-1\n",
              "Item-9    90.62  47.29   19.78     Op-1\n",
              "Item-10   97.22  52.14   20.71     Op-1\n",
              "Item-11  100.00  54.76   20.62     Op-1\n",
              "Item-12   97.23  48.26   19.51     Op-1\n",
              "Item-13  105.72  50.04   20.06     Op-1\n",
              "Item-14   89.82  45.98   20.30     Op-1\n",
              "Item-15   99.17  53.54   20.25     Op-1\n",
              "Item-16   95.51  45.36   20.52     Op-1\n",
              "Item-17  107.69  48.18   19.33     Op-1\n",
              "Item-18  106.83  50.81   19.12     Op-1\n",
              "Item-19   98.73  55.76   19.37     Op-1\n",
              "Item-20   94.31  48.74   18.80     Op-1\n",
              "Item-21  104.87  49.73   19.94     Op-1\n",
              "Item-22   98.06  48.39   19.79     Op-1\n",
              "Item-23  108.45  44.46   22.31     Op-1\n",
              "Item-24   95.34  46.03   20.17     Op-1\n",
              "Item-25   97.66  50.69   19.54     Op-1"
            ],
            "text/html": [
              "\n",
              "  <div id=\"df-bb273666-2490-447c-85dc-9d673002c046\">\n",
              "    <div class=\"colab-df-container\">\n",
              "      <div>\n",
              "<style scoped>\n",
              "    .dataframe tbody tr th:only-of-type {\n",
              "        vertical-align: middle;\n",
              "    }\n",
              "\n",
              "    .dataframe tbody tr th {\n",
              "        vertical-align: top;\n",
              "    }\n",
              "\n",
              "    .dataframe thead th {\n",
              "        text-align: right;\n",
              "    }\n",
              "</style>\n",
              "<table border=\"1\" class=\"dataframe\">\n",
              "  <thead>\n",
              "    <tr style=\"text-align: right;\">\n",
              "      <th></th>\n",
              "      <th>Length</th>\n",
              "      <th>Width</th>\n",
              "      <th>Height</th>\n",
              "      <th>Operator</th>\n",
              "    </tr>\n",
              "    <tr>\n",
              "      <th>Item_No</th>\n",
              "      <th></th>\n",
              "      <th></th>\n",
              "      <th></th>\n",
              "      <th></th>\n",
              "    </tr>\n",
              "  </thead>\n",
              "  <tbody>\n",
              "    <tr>\n",
              "      <th>Item-1</th>\n",
              "      <td>102.67</td>\n",
              "      <td>49.53</td>\n",
              "      <td>19.69</td>\n",
              "      <td>Op-1</td>\n",
              "    </tr>\n",
              "    <tr>\n",
              "      <th>Item-2</th>\n",
              "      <td>102.50</td>\n",
              "      <td>51.42</td>\n",
              "      <td>19.63</td>\n",
              "      <td>Op-1</td>\n",
              "    </tr>\n",
              "    <tr>\n",
              "      <th>Item-3</th>\n",
              "      <td>95.37</td>\n",
              "      <td>52.25</td>\n",
              "      <td>21.51</td>\n",
              "      <td>Op-1</td>\n",
              "    </tr>\n",
              "    <tr>\n",
              "      <th>Item-4</th>\n",
              "      <td>94.77</td>\n",
              "      <td>49.24</td>\n",
              "      <td>18.60</td>\n",
              "      <td>Op-1</td>\n",
              "    </tr>\n",
              "    <tr>\n",
              "      <th>Item-5</th>\n",
              "      <td>104.26</td>\n",
              "      <td>47.90</td>\n",
              "      <td>19.46</td>\n",
              "      <td>Op-1</td>\n",
              "    </tr>\n",
              "    <tr>\n",
              "      <th>Item-6</th>\n",
              "      <td>105.18</td>\n",
              "      <td>49.39</td>\n",
              "      <td>20.36</td>\n",
              "      <td>Op-1</td>\n",
              "    </tr>\n",
              "    <tr>\n",
              "      <th>Item-7</th>\n",
              "      <td>97.35</td>\n",
              "      <td>48.05</td>\n",
              "      <td>20.22</td>\n",
              "      <td>Op-1</td>\n",
              "    </tr>\n",
              "    <tr>\n",
              "      <th>Item-8</th>\n",
              "      <td>99.35</td>\n",
              "      <td>44.59</td>\n",
              "      <td>21.03</td>\n",
              "      <td>Op-1</td>\n",
              "    </tr>\n",
              "    <tr>\n",
              "      <th>Item-9</th>\n",
              "      <td>90.62</td>\n",
              "      <td>47.29</td>\n",
              "      <td>19.78</td>\n",
              "      <td>Op-1</td>\n",
              "    </tr>\n",
              "    <tr>\n",
              "      <th>Item-10</th>\n",
              "      <td>97.22</td>\n",
              "      <td>52.14</td>\n",
              "      <td>20.71</td>\n",
              "      <td>Op-1</td>\n",
              "    </tr>\n",
              "    <tr>\n",
              "      <th>Item-11</th>\n",
              "      <td>100.00</td>\n",
              "      <td>54.76</td>\n",
              "      <td>20.62</td>\n",
              "      <td>Op-1</td>\n",
              "    </tr>\n",
              "    <tr>\n",
              "      <th>Item-12</th>\n",
              "      <td>97.23</td>\n",
              "      <td>48.26</td>\n",
              "      <td>19.51</td>\n",
              "      <td>Op-1</td>\n",
              "    </tr>\n",
              "    <tr>\n",
              "      <th>Item-13</th>\n",
              "      <td>105.72</td>\n",
              "      <td>50.04</td>\n",
              "      <td>20.06</td>\n",
              "      <td>Op-1</td>\n",
              "    </tr>\n",
              "    <tr>\n",
              "      <th>Item-14</th>\n",
              "      <td>89.82</td>\n",
              "      <td>45.98</td>\n",
              "      <td>20.30</td>\n",
              "      <td>Op-1</td>\n",
              "    </tr>\n",
              "    <tr>\n",
              "      <th>Item-15</th>\n",
              "      <td>99.17</td>\n",
              "      <td>53.54</td>\n",
              "      <td>20.25</td>\n",
              "      <td>Op-1</td>\n",
              "    </tr>\n",
              "    <tr>\n",
              "      <th>Item-16</th>\n",
              "      <td>95.51</td>\n",
              "      <td>45.36</td>\n",
              "      <td>20.52</td>\n",
              "      <td>Op-1</td>\n",
              "    </tr>\n",
              "    <tr>\n",
              "      <th>Item-17</th>\n",
              "      <td>107.69</td>\n",
              "      <td>48.18</td>\n",
              "      <td>19.33</td>\n",
              "      <td>Op-1</td>\n",
              "    </tr>\n",
              "    <tr>\n",
              "      <th>Item-18</th>\n",
              "      <td>106.83</td>\n",
              "      <td>50.81</td>\n",
              "      <td>19.12</td>\n",
              "      <td>Op-1</td>\n",
              "    </tr>\n",
              "    <tr>\n",
              "      <th>Item-19</th>\n",
              "      <td>98.73</td>\n",
              "      <td>55.76</td>\n",
              "      <td>19.37</td>\n",
              "      <td>Op-1</td>\n",
              "    </tr>\n",
              "    <tr>\n",
              "      <th>Item-20</th>\n",
              "      <td>94.31</td>\n",
              "      <td>48.74</td>\n",
              "      <td>18.80</td>\n",
              "      <td>Op-1</td>\n",
              "    </tr>\n",
              "    <tr>\n",
              "      <th>Item-21</th>\n",
              "      <td>104.87</td>\n",
              "      <td>49.73</td>\n",
              "      <td>19.94</td>\n",
              "      <td>Op-1</td>\n",
              "    </tr>\n",
              "    <tr>\n",
              "      <th>Item-22</th>\n",
              "      <td>98.06</td>\n",
              "      <td>48.39</td>\n",
              "      <td>19.79</td>\n",
              "      <td>Op-1</td>\n",
              "    </tr>\n",
              "    <tr>\n",
              "      <th>Item-23</th>\n",
              "      <td>108.45</td>\n",
              "      <td>44.46</td>\n",
              "      <td>22.31</td>\n",
              "      <td>Op-1</td>\n",
              "    </tr>\n",
              "    <tr>\n",
              "      <th>Item-24</th>\n",
              "      <td>95.34</td>\n",
              "      <td>46.03</td>\n",
              "      <td>20.17</td>\n",
              "      <td>Op-1</td>\n",
              "    </tr>\n",
              "    <tr>\n",
              "      <th>Item-25</th>\n",
              "      <td>97.66</td>\n",
              "      <td>50.69</td>\n",
              "      <td>19.54</td>\n",
              "      <td>Op-1</td>\n",
              "    </tr>\n",
              "  </tbody>\n",
              "</table>\n",
              "</div>\n",
              "      <button class=\"colab-df-convert\" onclick=\"convertToInteractive('df-bb273666-2490-447c-85dc-9d673002c046')\"\n",
              "              title=\"Convert this dataframe to an interactive table.\"\n",
              "              style=\"display:none;\">\n",
              "        \n",
              "  <svg xmlns=\"http://www.w3.org/2000/svg\" height=\"24px\"viewBox=\"0 0 24 24\"\n",
              "       width=\"24px\">\n",
              "    <path d=\"M0 0h24v24H0V0z\" fill=\"none\"/>\n",
              "    <path d=\"M18.56 5.44l.94 2.06.94-2.06 2.06-.94-2.06-.94-.94-2.06-.94 2.06-2.06.94zm-11 1L8.5 8.5l.94-2.06 2.06-.94-2.06-.94L8.5 2.5l-.94 2.06-2.06.94zm10 10l.94 2.06.94-2.06 2.06-.94-2.06-.94-.94-2.06-.94 2.06-2.06.94z\"/><path d=\"M17.41 7.96l-1.37-1.37c-.4-.4-.92-.59-1.43-.59-.52 0-1.04.2-1.43.59L10.3 9.45l-7.72 7.72c-.78.78-.78 2.05 0 2.83L4 21.41c.39.39.9.59 1.41.59.51 0 1.02-.2 1.41-.59l7.78-7.78 2.81-2.81c.8-.78.8-2.07 0-2.86zM5.41 20L4 18.59l7.72-7.72 1.47 1.35L5.41 20z\"/>\n",
              "  </svg>\n",
              "      </button>\n",
              "      \n",
              "  <style>\n",
              "    .colab-df-container {\n",
              "      display:flex;\n",
              "      flex-wrap:wrap;\n",
              "      gap: 12px;\n",
              "    }\n",
              "\n",
              "    .colab-df-convert {\n",
              "      background-color: #E8F0FE;\n",
              "      border: none;\n",
              "      border-radius: 50%;\n",
              "      cursor: pointer;\n",
              "      display: none;\n",
              "      fill: #1967D2;\n",
              "      height: 32px;\n",
              "      padding: 0 0 0 0;\n",
              "      width: 32px;\n",
              "    }\n",
              "\n",
              "    .colab-df-convert:hover {\n",
              "      background-color: #E2EBFA;\n",
              "      box-shadow: 0px 1px 2px rgba(60, 64, 67, 0.3), 0px 1px 3px 1px rgba(60, 64, 67, 0.15);\n",
              "      fill: #174EA6;\n",
              "    }\n",
              "\n",
              "    [theme=dark] .colab-df-convert {\n",
              "      background-color: #3B4455;\n",
              "      fill: #D2E3FC;\n",
              "    }\n",
              "\n",
              "    [theme=dark] .colab-df-convert:hover {\n",
              "      background-color: #434B5C;\n",
              "      box-shadow: 0px 1px 3px 1px rgba(0, 0, 0, 0.15);\n",
              "      filter: drop-shadow(0px 1px 2px rgba(0, 0, 0, 0.3));\n",
              "      fill: #FFFFFF;\n",
              "    }\n",
              "  </style>\n",
              "\n",
              "      <script>\n",
              "        const buttonEl =\n",
              "          document.querySelector('#df-bb273666-2490-447c-85dc-9d673002c046 button.colab-df-convert');\n",
              "        buttonEl.style.display =\n",
              "          google.colab.kernel.accessAllowed ? 'block' : 'none';\n",
              "\n",
              "        async function convertToInteractive(key) {\n",
              "          const element = document.querySelector('#df-bb273666-2490-447c-85dc-9d673002c046');\n",
              "          const dataTable =\n",
              "            await google.colab.kernel.invokeFunction('convertToInteractive',\n",
              "                                                     [key], {});\n",
              "          if (!dataTable) return;\n",
              "\n",
              "          const docLinkHtml = 'Like what you see? Visit the ' +\n",
              "            '<a target=\"_blank\" href=https://colab.research.google.com/notebooks/data_table.ipynb>data table notebook</a>'\n",
              "            + ' to learn more about interactive tables.';\n",
              "          element.innerHTML = '';\n",
              "          dataTable['output_type'] = 'display_data';\n",
              "          await google.colab.output.renderOutput(dataTable, element);\n",
              "          const docLink = document.createElement('div');\n",
              "          docLink.innerHTML = docLinkHtml;\n",
              "          element.appendChild(docLink);\n",
              "        }\n",
              "      </script>\n",
              "    </div>\n",
              "  </div>\n",
              "  "
            ]
          },
          "metadata": {},
          "execution_count": 13
        }
      ]
    },
    {
      "cell_type": "code",
      "source": [
        "op2 = df[df['Operator'] == 'Op-2']"
      ],
      "metadata": {
        "id": "pux9Lbun9xe1"
      },
      "execution_count": 14,
      "outputs": []
    },
    {
      "cell_type": "code",
      "source": [
        "op2"
      ],
      "metadata": {
        "colab": {
          "base_uri": "https://localhost:8080/",
          "height": 865
        },
        "id": "L5nZaU0a96B2",
        "outputId": "b291aac7-9cc9-44ae-bcf1-bbcf54dd9453"
      },
      "execution_count": 15,
      "outputs": [
        {
          "output_type": "execute_result",
          "data": {
            "text/plain": [
              "         Length  Width  Height Operator\n",
              "Item_No                                \n",
              "Item-26   95.69  49.48   17.37     Op-2\n",
              "Item-27  105.88  49.53   18.70     Op-2\n",
              "Item-28  101.68  52.79   19.42     Op-2\n",
              "Item-29   93.54  51.05   19.29     Op-2\n",
              "Item-30   99.66  48.40   20.64     Op-2\n",
              "Item-31   98.38  46.79   21.27     Op-2\n",
              "Item-32   95.53  53.83   23.11     Op-2\n",
              "Item-33  100.53  50.00   21.13     Op-2\n",
              "Item-34   95.67  49.64   21.92     Op-2\n",
              "Item-35  101.86  50.45   18.05     Op-2\n",
              "Item-36  105.22  54.61   20.64     Op-2\n",
              "Item-37  101.86  49.85   19.15     Op-2\n",
              "Item-38   97.19  49.90   19.04     Op-2\n",
              "Item-39  103.00  48.81   19.39     Op-2\n",
              "Item-40  100.57  53.52   19.98     Op-2\n",
              "Item-41  110.54  51.07   21.95     Op-2\n",
              "Item-42  109.22  45.24   20.05     Op-2\n",
              "Item-43   92.52  49.04   19.92     Op-2\n",
              "Item-44  107.05  49.01   18.97     Op-2\n",
              "Item-45  106.53  48.55   19.20     Op-2\n",
              "Item-46  101.21  47.61   21.39     Op-2\n",
              "Item-47  101.09  48.28   20.04     Op-2\n",
              "Item-48   95.61  46.30   20.31     Op-2\n",
              "Item-49  104.45  48.71   19.51     Op-2\n",
              "Item-50   93.28  48.08   19.64     Op-2"
            ],
            "text/html": [
              "\n",
              "  <div id=\"df-2eb97c24-8b73-4a46-9cd8-bb4ddb9464d6\">\n",
              "    <div class=\"colab-df-container\">\n",
              "      <div>\n",
              "<style scoped>\n",
              "    .dataframe tbody tr th:only-of-type {\n",
              "        vertical-align: middle;\n",
              "    }\n",
              "\n",
              "    .dataframe tbody tr th {\n",
              "        vertical-align: top;\n",
              "    }\n",
              "\n",
              "    .dataframe thead th {\n",
              "        text-align: right;\n",
              "    }\n",
              "</style>\n",
              "<table border=\"1\" class=\"dataframe\">\n",
              "  <thead>\n",
              "    <tr style=\"text-align: right;\">\n",
              "      <th></th>\n",
              "      <th>Length</th>\n",
              "      <th>Width</th>\n",
              "      <th>Height</th>\n",
              "      <th>Operator</th>\n",
              "    </tr>\n",
              "    <tr>\n",
              "      <th>Item_No</th>\n",
              "      <th></th>\n",
              "      <th></th>\n",
              "      <th></th>\n",
              "      <th></th>\n",
              "    </tr>\n",
              "  </thead>\n",
              "  <tbody>\n",
              "    <tr>\n",
              "      <th>Item-26</th>\n",
              "      <td>95.69</td>\n",
              "      <td>49.48</td>\n",
              "      <td>17.37</td>\n",
              "      <td>Op-2</td>\n",
              "    </tr>\n",
              "    <tr>\n",
              "      <th>Item-27</th>\n",
              "      <td>105.88</td>\n",
              "      <td>49.53</td>\n",
              "      <td>18.70</td>\n",
              "      <td>Op-2</td>\n",
              "    </tr>\n",
              "    <tr>\n",
              "      <th>Item-28</th>\n",
              "      <td>101.68</td>\n",
              "      <td>52.79</td>\n",
              "      <td>19.42</td>\n",
              "      <td>Op-2</td>\n",
              "    </tr>\n",
              "    <tr>\n",
              "      <th>Item-29</th>\n",
              "      <td>93.54</td>\n",
              "      <td>51.05</td>\n",
              "      <td>19.29</td>\n",
              "      <td>Op-2</td>\n",
              "    </tr>\n",
              "    <tr>\n",
              "      <th>Item-30</th>\n",
              "      <td>99.66</td>\n",
              "      <td>48.40</td>\n",
              "      <td>20.64</td>\n",
              "      <td>Op-2</td>\n",
              "    </tr>\n",
              "    <tr>\n",
              "      <th>Item-31</th>\n",
              "      <td>98.38</td>\n",
              "      <td>46.79</td>\n",
              "      <td>21.27</td>\n",
              "      <td>Op-2</td>\n",
              "    </tr>\n",
              "    <tr>\n",
              "      <th>Item-32</th>\n",
              "      <td>95.53</td>\n",
              "      <td>53.83</td>\n",
              "      <td>23.11</td>\n",
              "      <td>Op-2</td>\n",
              "    </tr>\n",
              "    <tr>\n",
              "      <th>Item-33</th>\n",
              "      <td>100.53</td>\n",
              "      <td>50.00</td>\n",
              "      <td>21.13</td>\n",
              "      <td>Op-2</td>\n",
              "    </tr>\n",
              "    <tr>\n",
              "      <th>Item-34</th>\n",
              "      <td>95.67</td>\n",
              "      <td>49.64</td>\n",
              "      <td>21.92</td>\n",
              "      <td>Op-2</td>\n",
              "    </tr>\n",
              "    <tr>\n",
              "      <th>Item-35</th>\n",
              "      <td>101.86</td>\n",
              "      <td>50.45</td>\n",
              "      <td>18.05</td>\n",
              "      <td>Op-2</td>\n",
              "    </tr>\n",
              "    <tr>\n",
              "      <th>Item-36</th>\n",
              "      <td>105.22</td>\n",
              "      <td>54.61</td>\n",
              "      <td>20.64</td>\n",
              "      <td>Op-2</td>\n",
              "    </tr>\n",
              "    <tr>\n",
              "      <th>Item-37</th>\n",
              "      <td>101.86</td>\n",
              "      <td>49.85</td>\n",
              "      <td>19.15</td>\n",
              "      <td>Op-2</td>\n",
              "    </tr>\n",
              "    <tr>\n",
              "      <th>Item-38</th>\n",
              "      <td>97.19</td>\n",
              "      <td>49.90</td>\n",
              "      <td>19.04</td>\n",
              "      <td>Op-2</td>\n",
              "    </tr>\n",
              "    <tr>\n",
              "      <th>Item-39</th>\n",
              "      <td>103.00</td>\n",
              "      <td>48.81</td>\n",
              "      <td>19.39</td>\n",
              "      <td>Op-2</td>\n",
              "    </tr>\n",
              "    <tr>\n",
              "      <th>Item-40</th>\n",
              "      <td>100.57</td>\n",
              "      <td>53.52</td>\n",
              "      <td>19.98</td>\n",
              "      <td>Op-2</td>\n",
              "    </tr>\n",
              "    <tr>\n",
              "      <th>Item-41</th>\n",
              "      <td>110.54</td>\n",
              "      <td>51.07</td>\n",
              "      <td>21.95</td>\n",
              "      <td>Op-2</td>\n",
              "    </tr>\n",
              "    <tr>\n",
              "      <th>Item-42</th>\n",
              "      <td>109.22</td>\n",
              "      <td>45.24</td>\n",
              "      <td>20.05</td>\n",
              "      <td>Op-2</td>\n",
              "    </tr>\n",
              "    <tr>\n",
              "      <th>Item-43</th>\n",
              "      <td>92.52</td>\n",
              "      <td>49.04</td>\n",
              "      <td>19.92</td>\n",
              "      <td>Op-2</td>\n",
              "    </tr>\n",
              "    <tr>\n",
              "      <th>Item-44</th>\n",
              "      <td>107.05</td>\n",
              "      <td>49.01</td>\n",
              "      <td>18.97</td>\n",
              "      <td>Op-2</td>\n",
              "    </tr>\n",
              "    <tr>\n",
              "      <th>Item-45</th>\n",
              "      <td>106.53</td>\n",
              "      <td>48.55</td>\n",
              "      <td>19.20</td>\n",
              "      <td>Op-2</td>\n",
              "    </tr>\n",
              "    <tr>\n",
              "      <th>Item-46</th>\n",
              "      <td>101.21</td>\n",
              "      <td>47.61</td>\n",
              "      <td>21.39</td>\n",
              "      <td>Op-2</td>\n",
              "    </tr>\n",
              "    <tr>\n",
              "      <th>Item-47</th>\n",
              "      <td>101.09</td>\n",
              "      <td>48.28</td>\n",
              "      <td>20.04</td>\n",
              "      <td>Op-2</td>\n",
              "    </tr>\n",
              "    <tr>\n",
              "      <th>Item-48</th>\n",
              "      <td>95.61</td>\n",
              "      <td>46.30</td>\n",
              "      <td>20.31</td>\n",
              "      <td>Op-2</td>\n",
              "    </tr>\n",
              "    <tr>\n",
              "      <th>Item-49</th>\n",
              "      <td>104.45</td>\n",
              "      <td>48.71</td>\n",
              "      <td>19.51</td>\n",
              "      <td>Op-2</td>\n",
              "    </tr>\n",
              "    <tr>\n",
              "      <th>Item-50</th>\n",
              "      <td>93.28</td>\n",
              "      <td>48.08</td>\n",
              "      <td>19.64</td>\n",
              "      <td>Op-2</td>\n",
              "    </tr>\n",
              "  </tbody>\n",
              "</table>\n",
              "</div>\n",
              "      <button class=\"colab-df-convert\" onclick=\"convertToInteractive('df-2eb97c24-8b73-4a46-9cd8-bb4ddb9464d6')\"\n",
              "              title=\"Convert this dataframe to an interactive table.\"\n",
              "              style=\"display:none;\">\n",
              "        \n",
              "  <svg xmlns=\"http://www.w3.org/2000/svg\" height=\"24px\"viewBox=\"0 0 24 24\"\n",
              "       width=\"24px\">\n",
              "    <path d=\"M0 0h24v24H0V0z\" fill=\"none\"/>\n",
              "    <path d=\"M18.56 5.44l.94 2.06.94-2.06 2.06-.94-2.06-.94-.94-2.06-.94 2.06-2.06.94zm-11 1L8.5 8.5l.94-2.06 2.06-.94-2.06-.94L8.5 2.5l-.94 2.06-2.06.94zm10 10l.94 2.06.94-2.06 2.06-.94-2.06-.94-.94-2.06-.94 2.06-2.06.94z\"/><path d=\"M17.41 7.96l-1.37-1.37c-.4-.4-.92-.59-1.43-.59-.52 0-1.04.2-1.43.59L10.3 9.45l-7.72 7.72c-.78.78-.78 2.05 0 2.83L4 21.41c.39.39.9.59 1.41.59.51 0 1.02-.2 1.41-.59l7.78-7.78 2.81-2.81c.8-.78.8-2.07 0-2.86zM5.41 20L4 18.59l7.72-7.72 1.47 1.35L5.41 20z\"/>\n",
              "  </svg>\n",
              "      </button>\n",
              "      \n",
              "  <style>\n",
              "    .colab-df-container {\n",
              "      display:flex;\n",
              "      flex-wrap:wrap;\n",
              "      gap: 12px;\n",
              "    }\n",
              "\n",
              "    .colab-df-convert {\n",
              "      background-color: #E8F0FE;\n",
              "      border: none;\n",
              "      border-radius: 50%;\n",
              "      cursor: pointer;\n",
              "      display: none;\n",
              "      fill: #1967D2;\n",
              "      height: 32px;\n",
              "      padding: 0 0 0 0;\n",
              "      width: 32px;\n",
              "    }\n",
              "\n",
              "    .colab-df-convert:hover {\n",
              "      background-color: #E2EBFA;\n",
              "      box-shadow: 0px 1px 2px rgba(60, 64, 67, 0.3), 0px 1px 3px 1px rgba(60, 64, 67, 0.15);\n",
              "      fill: #174EA6;\n",
              "    }\n",
              "\n",
              "    [theme=dark] .colab-df-convert {\n",
              "      background-color: #3B4455;\n",
              "      fill: #D2E3FC;\n",
              "    }\n",
              "\n",
              "    [theme=dark] .colab-df-convert:hover {\n",
              "      background-color: #434B5C;\n",
              "      box-shadow: 0px 1px 3px 1px rgba(0, 0, 0, 0.15);\n",
              "      filter: drop-shadow(0px 1px 2px rgba(0, 0, 0, 0.3));\n",
              "      fill: #FFFFFF;\n",
              "    }\n",
              "  </style>\n",
              "\n",
              "      <script>\n",
              "        const buttonEl =\n",
              "          document.querySelector('#df-2eb97c24-8b73-4a46-9cd8-bb4ddb9464d6 button.colab-df-convert');\n",
              "        buttonEl.style.display =\n",
              "          google.colab.kernel.accessAllowed ? 'block' : 'none';\n",
              "\n",
              "        async function convertToInteractive(key) {\n",
              "          const element = document.querySelector('#df-2eb97c24-8b73-4a46-9cd8-bb4ddb9464d6');\n",
              "          const dataTable =\n",
              "            await google.colab.kernel.invokeFunction('convertToInteractive',\n",
              "                                                     [key], {});\n",
              "          if (!dataTable) return;\n",
              "\n",
              "          const docLinkHtml = 'Like what you see? Visit the ' +\n",
              "            '<a target=\"_blank\" href=https://colab.research.google.com/notebooks/data_table.ipynb>data table notebook</a>'\n",
              "            + ' to learn more about interactive tables.';\n",
              "          element.innerHTML = '';\n",
              "          dataTable['output_type'] = 'display_data';\n",
              "          await google.colab.output.renderOutput(dataTable, element);\n",
              "          const docLink = document.createElement('div');\n",
              "          docLink.innerHTML = docLinkHtml;\n",
              "          element.appendChild(docLink);\n",
              "        }\n",
              "      </script>\n",
              "    </div>\n",
              "  </div>\n",
              "  "
            ]
          },
          "metadata": {},
          "execution_count": 15
        }
      ]
    },
    {
      "cell_type": "code",
      "source": [
        "plt.boxplot([op1['Length'], op2['Length']])\n",
        "plt.show()"
      ],
      "metadata": {
        "colab": {
          "base_uri": "https://localhost:8080/",
          "height": 430
        },
        "id": "LiiklepD97XN",
        "outputId": "128e56c1-d425-4599-ab4c-156a6756b3c8"
      },
      "execution_count": 16,
      "outputs": [
        {
          "output_type": "display_data",
          "data": {
            "text/plain": [
              "<Figure size 640x480 with 1 Axes>"
            ],
            "image/png": "[encoded data removed]"
          },
          "metadata": {}
        }
      ]
    },
    {
      "cell_type": "code",
      "source": [
        "plt.boxplot([op1['Length'], op2['Length']], notch=True)\n",
        "plt.xlabel('Operator')\n",
        "plt.ylabel('Length in mm')\n",
        "plt.title('Box plot by operator')\n",
        "plt.show()"
      ],
      "metadata": {
        "colab": {
          "base_uri": "https://localhost:8080/",
          "height": 472
        },
        "id": "OVJU46Xi-aX4",
        "outputId": "52087760-6185-46df-ee65-745041393687"
      },
      "execution_count": 17,
      "outputs": [
        {
          "output_type": "display_data",
          "data": {
            "text/plain": [
              "<Figure size 640x480 with 1 Axes>"
            ],
            "image/png": "[encoded data removed]"
          },
          "metadata": {}
        }
      ]
    },
    {
      "cell_type": "code",
      "source": [
        "plt.plot(df['Length'])\n",
        "plt.show()"
      ],
      "metadata": {
        "colab": {
          "base_uri": "https://localhost:8080/",
          "height": 430
        },
        "id": "fyPQMEPp-yFO",
        "outputId": "9af85ece-77b0-4d3d-e1fb-b6354598880a"
      },
      "execution_count": 18,
      "outputs": [
        {
          "output_type": "display_data",
          "data": {
            "text/plain": [
              "<Figure size 640x480 with 1 Axes>"
            ],
            "image/png": "[encoded data removed]"
          },
          "metadata": {}
        }
      ]
    },
    {
      "cell_type": "code",
      "source": [
        "mean_1 = df['Length'].mean()"
      ],
      "metadata": {
        "id": "AhluHpib_UFG"
      },
      "execution_count": 19,
      "outputs": []
    },
    {
      "cell_type": "code",
      "source": [
        "mean_1"
      ],
      "metadata": {
        "colab": {
          "base_uri": "https://localhost:8080/"
        },
        "id": "9UoHY51S_sTn",
        "outputId": "25cfff57-e695-4017-fb2d-d5745d03fc5a"
      },
      "execution_count": 20,
      "outputs": [
        {
          "output_type": "execute_result",
          "data": {
            "text/plain": [
              "100.1288"
            ]
          },
          "metadata": {},
          "execution_count": 20
        }
      ]
    },
    {
      "cell_type": "code",
      "source": [
        "plt.plot(df['Length'])\n",
        "mean_l = df['Length'].mean()\n",
        "sd_l = df['Length'].std()\n",
        "plt.axhline(y=mean_l, color='red', linestyle='-')\n",
        "plt.axhline(y=(mean_l + 3*sd_l), color='red', linestyle='--')\n",
        "plt.axhline(y=(mean_l - 3*sd_l), color='red', linestyle='--')\n",
        "plt.show()"
      ],
      "metadata": {
        "colab": {
          "base_uri": "https://localhost:8080/",
          "height": 430
        },
        "id": "U06C1tWJ_uKW",
        "outputId": "2f5398f3-b1f9-48c5-82ea-e9b23a949aa3"
      },
      "execution_count": null,
      "outputs": [
        {
          "output_type": "display_data",
          "data": {
            "text/plain": [
              "<Figure size 640x480 with 1 Axes>"
            ],
            "image/png": "[encoded data removed]"
          },
          "metadata": {}
        }
      ]
    },
    {
      "cell_type": "code",
      "source": [
        "plt.figure(figsize=(10,3))\n",
        "plt.plot(df['Length'])\n",
        "mean_l = df['Length'].mean()\n",
        "sd_l = df['Length'].std()\n",
        "plt.axhline(y=mean_l, color='red', linestyle='-')\n",
        "plt.axhline(y=(mean_l + 3*sd_l), color='red', linestyle='--')\n",
        "plt.axhline(y=(mean_l - 3*sd_l), color='red', linestyle='--')\n",
        "plt.show()"
      ],
      "metadata": {
        "colab": {
          "base_uri": "https://localhost:8080/",
          "height": 291
        },
        "id": "EU26S6eF_973",
        "outputId": "66c5ef23-9990-4c4a-e9e2-43c11e0dfb66"
      },
      "execution_count": 21,
      "outputs": [
        {
          "output_type": "display_data",
          "data": {
            "text/plain": [
              "<Figure size 1000x300 with 1 Axes>"
            ],
            "image/png": "[encoded data removed]"
          },
          "metadata": {}
        }
      ]
    },
    {
      "cell_type": "code",
      "source": [
        "plt.scatter(df['Length'], df['Width'])"
      ],
      "metadata": {
        "colab": {
          "base_uri": "https://localhost:8080/",
          "height": 447
        },
        "id": "8JI8UYUgAyAd",
        "outputId": "16a42944-48e0-4e8c-f9ef-48aaa58a6bde"
      },
      "execution_count": 22,
      "outputs": [
        {
          "output_type": "execute_result",
          "data": {
            "text/plain": [
              "<matplotlib.collections.PathCollection at 0x7f8af4d69660>"
            ]
          },
          "metadata": {},
          "execution_count": 22
        },
        {
          "output_type": "display_data",
          "data": {
            "text/plain": [
              "<Figure size 640x480 with 1 Axes>"
            ],
            "image/png": "[encoded data removed]"
          },
          "metadata": {}
        }
      ]
    },
    {
      "cell_type": "code",
      "source": [
        "plt.scatter(data=df, x= 'Length', y='Width', marker='v')"
      ],
      "metadata": {
        "colab": {
          "base_uri": "https://localhost:8080/",
          "height": 447
        },
        "id": "JXLZ3sYZBOWI",
        "outputId": "b0dbc3b3-37d1-4764-9712-7da7fc4e9ada"
      },
      "execution_count": 23,
      "outputs": [
        {
          "output_type": "execute_result",
          "data": {
            "text/plain": [
              "<matplotlib.collections.PathCollection at 0x7f8af4de4190>"
            ]
          },
          "metadata": {},
          "execution_count": 23
        },
        {
          "output_type": "display_data",
          "data": {
            "text/plain": [
              "<Figure size 640x480 with 1 Axes>"
            ],
            "image/png": "[encoded data removed]"
          },
          "metadata": {}
        }
      ]
    },
    {
      "cell_type": "code",
      "source": [
        "opers = ['Operator 1', 'Operator 2', 'Operator3']\n",
        "pieces = [50, 35, 70]\n",
        "plt.bar(opers, pieces)\n",
        "plt.show()"
      ],
      "metadata": {
        "colab": {
          "base_uri": "https://localhost:8080/",
          "height": 430
        },
        "id": "8-qXtFQ1Bt92",
        "outputId": "12b66cb9-e356-464a-82b9-3cab2ea7d803"
      },
      "execution_count": 24,
      "outputs": [
        {
          "output_type": "display_data",
          "data": {
            "text/plain": [
              "<Figure size 640x480 with 1 Axes>"
            ],
            "image/png": "[encoded data removed]"
          },
          "metadata": {}
        }
      ]
    },
    {
      "cell_type": "code",
      "source": [
        "# pour filtrer sur les données ayant une longueur < 95\n",
        "df[df['Length']<95]"
      ],
      "metadata": {
        "colab": {
          "base_uri": "https://localhost:8080/",
          "height": 300
        },
        "id": "64SO8ayLCgWi",
        "outputId": "fd1504e7-826a-48fc-c6e2-b9e7951395da"
      },
      "execution_count": 25,
      "outputs": [
        {
          "output_type": "execute_result",
          "data": {
            "text/plain": [
              "         Length  Width  Height Operator\n",
              "Item_No                                \n",
              "Item-4    94.77  49.24   18.60     Op-1\n",
              "Item-9    90.62  47.29   19.78     Op-1\n",
              "Item-14   89.82  45.98   20.30     Op-1\n",
              "Item-20   94.31  48.74   18.80     Op-1\n",
              "Item-29   93.54  51.05   19.29     Op-2\n",
              "Item-43   92.52  49.04   19.92     Op-2\n",
              "Item-50   93.28  48.08   19.64     Op-2"
            ],
            "text/html": [
              "\n",
              "  <div id=\"df-15011c87-89e6-4f0f-9743-3c2398acf0a1\">\n",
              "    <div class=\"colab-df-container\">\n",
              "      <div>\n",
              "<style scoped>\n",
              "    .dataframe tbody tr th:only-of-type {\n",
              "        vertical-align: middle;\n",
              "    }\n",
              "\n",
              "    .dataframe tbody tr th {\n",
              "        vertical-align: top;\n",
              "    }\n",
              "\n",
              "    .dataframe thead th {\n",
              "        text-align: right;\n",
              "    }\n",
              "</style>\n",
              "<table border=\"1\" class=\"dataframe\">\n",
              "  <thead>\n",
              "    <tr style=\"text-align: right;\">\n",
              "      <th></th>\n",
              "      <th>Length</th>\n",
              "      <th>Width</th>\n",
              "      <th>Height</th>\n",
              "      <th>Operator</th>\n",
              "    </tr>\n",
              "    <tr>\n",
              "      <th>Item_No</th>\n",
              "      <th></th>\n",
              "      <th></th>\n",
              "      <th></th>\n",
              "      <th></th>\n",
              "    </tr>\n",
              "  </thead>\n",
              "  <tbody>\n",
              "    <tr>\n",
              "      <th>Item-4</th>\n",
              "      <td>94.77</td>\n",
              "      <td>49.24</td>\n",
              "      <td>18.60</td>\n",
              "      <td>Op-1</td>\n",
              "    </tr>\n",
              "    <tr>\n",
              "      <th>Item-9</th>\n",
              "      <td>90.62</td>\n",
              "      <td>47.29</td>\n",
              "      <td>19.78</td>\n",
              "      <td>Op-1</td>\n",
              "    </tr>\n",
              "    <tr>\n",
              "      <th>Item-14</th>\n",
              "      <td>89.82</td>\n",
              "      <td>45.98</td>\n",
              "      <td>20.30</td>\n",
              "      <td>Op-1</td>\n",
              "    </tr>\n",
              "    <tr>\n",
              "      <th>Item-20</th>\n",
              "      <td>94.31</td>\n",
              "      <td>48.74</td>\n",
              "      <td>18.80</td>\n",
              "      <td>Op-1</td>\n",
              "    </tr>\n",
              "    <tr>\n",
              "      <th>Item-29</th>\n",
              "      <td>93.54</td>\n",
              "      <td>51.05</td>\n",
              "      <td>19.29</td>\n",
              "      <td>Op-2</td>\n",
              "    </tr>\n",
              "    <tr>\n",
              "      <th>Item-43</th>\n",
              "      <td>92.52</td>\n",
              "      <td>49.04</td>\n",
              "      <td>19.92</td>\n",
              "      <td>Op-2</td>\n",
              "    </tr>\n",
              "    <tr>\n",
              "      <th>Item-50</th>\n",
              "      <td>93.28</td>\n",
              "      <td>48.08</td>\n",
              "      <td>19.64</td>\n",
              "      <td>Op-2</td>\n",
              "    </tr>\n",
              "  </tbody>\n",
              "</table>\n",
              "</div>\n",
              "      <button class=\"colab-df-convert\" onclick=\"convertToInteractive('df-15011c87-89e6-4f0f-9743-3c2398acf0a1')\"\n",
              "              title=\"Convert this dataframe to an interactive table.\"\n",
              "              style=\"display:none;\">\n",
              "        \n",
              "  <svg xmlns=\"http://www.w3.org/2000/svg\" height=\"24px\"viewBox=\"0 0 24 24\"\n",
              "       width=\"24px\">\n",
              "    <path d=\"M0 0h24v24H0V0z\" fill=\"none\"/>\n",
              "    <path d=\"M18.56 5.44l.94 2.06.94-2.06 2.06-.94-2.06-.94-.94-2.06-.94 2.06-2.06.94zm-11 1L8.5 8.5l.94-2.06 2.06-.94-2.06-.94L8.5 2.5l-.94 2.06-2.06.94zm10 10l.94 2.06.94-2.06 2.06-.94-2.06-.94-.94-2.06-.94 2.06-2.06.94z\"/><path d=\"M17.41 7.96l-1.37-1.37c-.4-.4-.92-.59-1.43-.59-.52 0-1.04.2-1.43.59L10.3 9.45l-7.72 7.72c-.78.78-.78 2.05 0 2.83L4 21.41c.39.39.9.59 1.41.59.51 0 1.02-.2 1.41-.59l7.78-7.78 2.81-2.81c.8-.78.8-2.07 0-2.86zM5.41 20L4 18.59l7.72-7.72 1.47 1.35L5.41 20z\"/>\n",
              "  </svg>\n",
              "      </button>\n",
              "      \n",
              "  <style>\n",
              "    .colab-df-container {\n",
              "      display:flex;\n",
              "      flex-wrap:wrap;\n",
              "      gap: 12px;\n",
              "    }\n",
              "\n",
              "    .colab-df-convert {\n",
              "      background-color: #E8F0FE;\n",
              "      border: none;\n",
              "      border-radius: 50%;\n",
              "      cursor: pointer;\n",
              "      display: none;\n",
              "      fill: #1967D2;\n",
              "      height: 32px;\n",
              "      padding: 0 0 0 0;\n",
              "      width: 32px;\n",
              "    }\n",
              "\n",
              "    .colab-df-convert:hover {\n",
              "      background-color: #E2EBFA;\n",
              "      box-shadow: 0px 1px 2px rgba(60, 64, 67, 0.3), 0px 1px 3px 1px rgba(60, 64, 67, 0.15);\n",
              "      fill: #174EA6;\n",
              "    }\n",
              "\n",
              "    [theme=dark] .colab-df-convert {\n",
              "      background-color: #3B4455;\n",
              "      fill: #D2E3FC;\n",
              "    }\n",
              "\n",
              "    [theme=dark] .colab-df-convert:hover {\n",
              "      background-color: #434B5C;\n",
              "      box-shadow: 0px 1px 3px 1px rgba(0, 0, 0, 0.15);\n",
              "      filter: drop-shadow(0px 1px 2px rgba(0, 0, 0, 0.3));\n",
              "      fill: #FFFFFF;\n",
              "    }\n",
              "  </style>\n",
              "\n",
              "      <script>\n",
              "        const buttonEl =\n",
              "          document.querySelector('#df-15011c87-89e6-4f0f-9743-3c2398acf0a1 button.colab-df-convert');\n",
              "        buttonEl.style.display =\n",
              "          google.colab.kernel.accessAllowed ? 'block' : 'none';\n",
              "\n",
              "        async function convertToInteractive(key) {\n",
              "          const element = document.querySelector('#df-15011c87-89e6-4f0f-9743-3c2398acf0a1');\n",
              "          const dataTable =\n",
              "            await google.colab.kernel.invokeFunction('convertToInteractive',\n",
              "                                                     [key], {});\n",
              "          if (!dataTable) return;\n",
              "\n",
              "          const docLinkHtml = 'Like what you see? Visit the ' +\n",
              "            '<a target=\"_blank\" href=https://colab.research.google.com/notebooks/data_table.ipynb>data table notebook</a>'\n",
              "            + ' to learn more about interactive tables.';\n",
              "          element.innerHTML = '';\n",
              "          dataTable['output_type'] = 'display_data';\n",
              "          await google.colab.output.renderOutput(dataTable, element);\n",
              "          const docLink = document.createElement('div');\n",
              "          docLink.innerHTML = docLinkHtml;\n",
              "          element.appendChild(docLink);\n",
              "        }\n",
              "      </script>\n",
              "    </div>\n",
              "  </div>\n",
              "  "
            ]
          },
          "metadata": {},
          "execution_count": 25
        }
      ]
    },
    {
      "cell_type": "code",
      "source": [
        "df[df['Length']<95]['Length']"
      ],
      "metadata": {
        "colab": {
          "base_uri": "https://localhost:8080/"
        },
        "id": "oqGYjG6zC7Ac",
        "outputId": "ef0a2d31-0810-400f-816d-32028c6705e6"
      },
      "execution_count": 26,
      "outputs": [
        {
          "output_type": "execute_result",
          "data": {
            "text/plain": [
              "Item_No\n",
              "Item-4     94.77\n",
              "Item-9     90.62\n",
              "Item-14    89.82\n",
              "Item-20    94.31\n",
              "Item-29    93.54\n",
              "Item-43    92.52\n",
              "Item-50    93.28\n",
              "Name: Length, dtype: float64"
            ]
          },
          "metadata": {},
          "execution_count": 26
        }
      ]
    },
    {
      "cell_type": "code",
      "source": [
        "lowl = df[df['Length']<95]['Length'].count()\n",
        "medl = df[(df['Length']>=95) & (df['Length']<=105)]['Length'].count()\n",
        "higl = df[df['Length']>105]['Length'].count()\n",
        "\n",
        "sizel = [lowl, medl, higl]\n",
        "groupl = ['< 95', 'Entre 95 et 105', '>105']\n",
        "plt.bar(groupl, sizel)\n",
        "plt.show()"
      ],
      "metadata": {
        "colab": {
          "base_uri": "https://localhost:8080/",
          "height": 430
        },
        "id": "ygKDuPwiCCN3",
        "outputId": "84160178-ad75-43eb-ca91-47043c67801d"
      },
      "execution_count": 27,
      "outputs": [
        {
          "output_type": "display_data",
          "data": {
            "text/plain": [
              "<Figure size 640x480 with 1 Axes>"
            ],
            "image/png": "[encoded data removed]"
          },
          "metadata": {}
        }
      ]
    },
    {
      "cell_type": "code",
      "source": [
        "plt.bar(groupl, sizel)\n",
        "plt.savefig('MyBoxPlot.jpg')"
      ],
      "metadata": {
        "colab": {
          "base_uri": "https://localhost:8080/",
          "height": 430
        },
        "id": "j1xI6QutEJXK",
        "outputId": "186d5f39-ce64-4676-d5d5-4362eb032781"
      },
      "execution_count": 28,
      "outputs": [
        {
          "output_type": "display_data",
          "data": {
            "text/plain": [
              "<Figure size 640x480 with 1 Axes>"
            ],
            "image/png": "[encoded data removed]"
          },
          "metadata": {}
        }
      ]
    },
    {
      "cell_type": "code",
      "source": [
        "plt.bar(groupl, sizel)\n",
        "plt.savefig('MyBoxPlot300.jpg', dpi=300)"
      ],
      "metadata": {
        "colab": {
          "base_uri": "https://localhost:8080/",
          "height": 430
        },
        "id": "mj-7L2nTEemn",
        "outputId": "c1f5cdf0-dae7-41d6-b8e9-b5d6f377c03a"
      },
      "execution_count": 29,
      "outputs": [
        {
          "output_type": "display_data",
          "data": {
            "text/plain": [
              "<Figure size 640x480 with 1 Axes>"
            ],
            "image/png": "[encoded data removed]"
          },
          "metadata": {}
        }
      ]
    },
    {
      "cell_type": "code",
      "source": [
        "import seaborn as sns"
      ],
      "metadata": {
        "id": "4ZdYpP3nE2Gf"
      },
      "execution_count": 30,
      "outputs": []
    },
    {
      "cell_type": "code",
      "source": [
        "df.head()"
      ],
      "metadata": {
        "colab": {
          "base_uri": "https://localhost:8080/",
          "height": 238
        },
        "id": "5TUHQZ_fFETf",
        "outputId": "fe53fc75-1284-4f54-cd7b-64e95709e06e"
      },
      "execution_count": 31,
      "outputs": [
        {
          "output_type": "execute_result",
          "data": {
            "text/plain": [
              "         Length  Width  Height Operator\n",
              "Item_No                                \n",
              "Item-1   102.67  49.53   19.69     Op-1\n",
              "Item-2   102.50  51.42   19.63     Op-1\n",
              "Item-3    95.37  52.25   21.51     Op-1\n",
              "Item-4    94.77  49.24   18.60     Op-1\n",
              "Item-5   104.26  47.90   19.46     Op-1"
            ],
            "text/html": [
              "\n",
              "  <div id=\"df-170e0760-3247-4f37-8965-f40923e61b77\">\n",
              "    <div class=\"colab-df-container\">\n",
              "      <div>\n",
              "<style scoped>\n",
              "    .dataframe tbody tr th:only-of-type {\n",
              "        vertical-align: middle;\n",
              "    }\n",
              "\n",
              "    .dataframe tbody tr th {\n",
              "        vertical-align: top;\n",
              "    }\n",
              "\n",
              "    .dataframe thead th {\n",
              "        text-align: right;\n",
              "    }\n",
              "</style>\n",
              "<table border=\"1\" class=\"dataframe\">\n",
              "  <thead>\n",
              "    <tr style=\"text-align: right;\">\n",
              "      <th></th>\n",
              "      <th>Length</th>\n",
              "      <th>Width</th>\n",
              "      <th>Height</th>\n",
              "      <th>Operator</th>\n",
              "    </tr>\n",
              "    <tr>\n",
              "      <th>Item_No</th>\n",
              "      <th></th>\n",
              "      <th></th>\n",
              "      <th></th>\n",
              "      <th></th>\n",
              "    </tr>\n",
              "  </thead>\n",
              "  <tbody>\n",
              "    <tr>\n",
              "      <th>Item-1</th>\n",
              "      <td>102.67</td>\n",
              "      <td>49.53</td>\n",
              "      <td>19.69</td>\n",
              "      <td>Op-1</td>\n",
              "    </tr>\n",
              "    <tr>\n",
              "      <th>Item-2</th>\n",
              "      <td>102.50</td>\n",
              "      <td>51.42</td>\n",
              "      <td>19.63</td>\n",
              "      <td>Op-1</td>\n",
              "    </tr>\n",
              "    <tr>\n",
              "      <th>Item-3</th>\n",
              "      <td>95.37</td>\n",
              "      <td>52.25</td>\n",
              "      <td>21.51</td>\n",
              "      <td>Op-1</td>\n",
              "    </tr>\n",
              "    <tr>\n",
              "      <th>Item-4</th>\n",
              "      <td>94.77</td>\n",
              "      <td>49.24</td>\n",
              "      <td>18.60</td>\n",
              "      <td>Op-1</td>\n",
              "    </tr>\n",
              "    <tr>\n",
              "      <th>Item-5</th>\n",
              "      <td>104.26</td>\n",
              "      <td>47.90</td>\n",
              "      <td>19.46</td>\n",
              "      <td>Op-1</td>\n",
              "    </tr>\n",
              "  </tbody>\n",
              "</table>\n",
              "</div>\n",
              "      <button class=\"colab-df-convert\" onclick=\"convertToInteractive('df-170e0760-3247-4f37-8965-f40923e61b77')\"\n",
              "              title=\"Convert this dataframe to an interactive table.\"\n",
              "              style=\"display:none;\">\n",
              "        \n",
              "  <svg xmlns=\"http://www.w3.org/2000/svg\" height=\"24px\"viewBox=\"0 0 24 24\"\n",
              "       width=\"24px\">\n",
              "    <path d=\"M0 0h24v24H0V0z\" fill=\"none\"/>\n",
              "    <path d=\"M18.56 5.44l.94 2.06.94-2.06 2.06-.94-2.06-.94-.94-2.06-.94 2.06-2.06.94zm-11 1L8.5 8.5l.94-2.06 2.06-.94-2.06-.94L8.5 2.5l-.94 2.06-2.06.94zm10 10l.94 2.06.94-2.06 2.06-.94-2.06-.94-.94-2.06-.94 2.06-2.06.94z\"/><path d=\"M17.41 7.96l-1.37-1.37c-.4-.4-.92-.59-1.43-.59-.52 0-1.04.2-1.43.59L10.3 9.45l-7.72 7.72c-.78.78-.78 2.05 0 2.83L4 21.41c.39.39.9.59 1.41.59.51 0 1.02-.2 1.41-.59l7.78-7.78 2.81-2.81c.8-.78.8-2.07 0-2.86zM5.41 20L4 18.59l7.72-7.72 1.47 1.35L5.41 20z\"/>\n",
              "  </svg>\n",
              "      </button>\n",
              "      \n",
              "  <style>\n",
              "    .colab-df-container {\n",
              "      display:flex;\n",
              "      flex-wrap:wrap;\n",
              "      gap: 12px;\n",
              "    }\n",
              "\n",
              "    .colab-df-convert {\n",
              "      background-color: #E8F0FE;\n",
              "      border: none;\n",
              "      border-radius: 50%;\n",
              "      cursor: pointer;\n",
              "      display: none;\n",
              "      fill: #1967D2;\n",
              "      height: 32px;\n",
              "      padding: 0 0 0 0;\n",
              "      width: 32px;\n",
              "    }\n",
              "\n",
              "    .colab-df-convert:hover {\n",
              "      background-color: #E2EBFA;\n",
              "      box-shadow: 0px 1px 2px rgba(60, 64, 67, 0.3), 0px 1px 3px 1px rgba(60, 64, 67, 0.15);\n",
              "      fill: #174EA6;\n",
              "    }\n",
              "\n",
              "    [theme=dark] .colab-df-convert {\n",
              "      background-color: #3B4455;\n",
              "      fill: #D2E3FC;\n",
              "    }\n",
              "\n",
              "    [theme=dark] .colab-df-convert:hover {\n",
              "      background-color: #434B5C;\n",
              "      box-shadow: 0px 1px 3px 1px rgba(0, 0, 0, 0.15);\n",
              "      filter: drop-shadow(0px 1px 2px rgba(0, 0, 0, 0.3));\n",
              "      fill: #FFFFFF;\n",
              "    }\n",
              "  </style>\n",
              "\n",
              "      <script>\n",
              "        const buttonEl =\n",
              "          document.querySelector('#df-170e0760-3247-4f37-8965-f40923e61b77 button.colab-df-convert');\n",
              "        buttonEl.style.display =\n",
              "          google.colab.kernel.accessAllowed ? 'block' : 'none';\n",
              "\n",
              "        async function convertToInteractive(key) {\n",
              "          const element = document.querySelector('#df-170e0760-3247-4f37-8965-f40923e61b77');\n",
              "          const dataTable =\n",
              "            await google.colab.kernel.invokeFunction('convertToInteractive',\n",
              "                                                     [key], {});\n",
              "          if (!dataTable) return;\n",
              "\n",
              "          const docLinkHtml = 'Like what you see? Visit the ' +\n",
              "            '<a target=\"_blank\" href=https://colab.research.google.com/notebooks/data_table.ipynb>data table notebook</a>'\n",
              "            + ' to learn more about interactive tables.';\n",
              "          element.innerHTML = '';\n",
              "          dataTable['output_type'] = 'display_data';\n",
              "          await google.colab.output.renderOutput(dataTable, element);\n",
              "          const docLink = document.createElement('div');\n",
              "          docLink.innerHTML = docLinkHtml;\n",
              "          element.appendChild(docLink);\n",
              "        }\n",
              "      </script>\n",
              "    </div>\n",
              "  </div>\n",
              "  "
            ]
          },
          "metadata": {},
          "execution_count": 31
        }
      ]
    },
    {
      "cell_type": "code",
      "source": [
        "plt.hist(df['Length']);"
      ],
      "metadata": {
        "colab": {
          "base_uri": "https://localhost:8080/",
          "height": 430
        },
        "id": "YGUicZFJFID4",
        "outputId": "d03b402d-0403-4c3e-941a-6fb32b8dcc4c"
      },
      "execution_count": 32,
      "outputs": [
        {
          "output_type": "display_data",
          "data": {
            "text/plain": [
              "<Figure size 640x480 with 1 Axes>"
            ],
            "image/png": "[encoded data removed]"
          },
          "metadata": {}
        }
      ]
    },
    {
      "cell_type": "code",
      "source": [
        "sns.histplot(data=df, x='Length', bins=10)\n",
        "plt.title(\"Histogramme avec sns\")\n",
        "plt.show()"
      ],
      "metadata": {
        "colab": {
          "base_uri": "https://localhost:8080/",
          "height": 472
        },
        "id": "Qs7UYHjZFPt_",
        "outputId": "6c19fa03-52a8-4bdc-a53c-d85662e84761"
      },
      "execution_count": 33,
      "outputs": [
        {
          "output_type": "display_data",
          "data": {
            "text/plain": [
              "<Figure size 640x480 with 1 Axes>"
            ],
            "image/png": "[encoded data removed]"
          },
          "metadata": {}
        }
      ]
    },
    {
      "cell_type": "code",
      "source": [],
      "metadata": {
        "id": "4hbMRl6QFt24"
      },
      "execution_count": 33,
      "outputs": []
    }
  ]
}